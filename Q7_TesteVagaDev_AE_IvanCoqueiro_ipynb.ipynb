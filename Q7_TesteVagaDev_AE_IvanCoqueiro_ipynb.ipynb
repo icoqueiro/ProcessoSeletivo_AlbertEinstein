{
  "nbformat": 4,
  "nbformat_minor": 0,
  "metadata": {
    "colab": {
      "provenance": [],
      "authorship_tag": "ABX9TyPBG0NbEXb3ad39hBt4r3d7",
      "include_colab_link": true
    },
    "kernelspec": {
      "name": "python3",
      "display_name": "Python 3"
    },
    "language_info": {
      "name": "python"
    }
  },
  "cells": [
    {
      "cell_type": "markdown",
      "metadata": {
        "id": "view-in-github",
        "colab_type": "text"
      },
      "source": [
        "<a href=\"https://colab.research.google.com/github/icoqueiro/ProcessoSeletivo_AlbertEinstein/blob/main/Q7_TesteVagaDev_AE_IvanCoqueiro_ipynb.ipynb\" target=\"_parent\"><img src=\"https://colab.research.google.com/assets/colab-badge.svg\" alt=\"Open In Colab\"/></a>"
      ]
    },
    {
      "cell_type": "markdown",
      "source": [
        "##Questão 7. Web Frameworks (10 pontos)"
      ],
      "metadata": {
        "id": "UCkoeWs6waBw"
      }
    },
    {
      "cell_type": "markdown",
      "source": [
        "Identifique e corrija as vulnerabilidades no seguinte código Flask:\n",
        "\n",
        "```\n",
        "# from flask import Flask, request\n",
        "app = Flask(__name__)\n",
        "\n",
        "@app.route('/login', methods=['POST'])\n",
        "def login():\n",
        "\tusername = request.form['username']\n",
        "\tpassword = request.form['password']\n",
        "\tif username == 'admin' and password == '1234':\n",
        "        return \"Acesso concedido\"\n",
        "\treturn \"Acesso negado\"\n",
        "\n",
        "if __name__ == '__main__':\n",
        "    app.run(debug=True)\n",
        "\n",
        "```\n",
        "\n"
      ],
      "metadata": {
        "id": "pU6qJ9hawQRi"
      }
    },
    {
      "cell_type": "markdown",
      "source": [
        "##Solução"
      ],
      "metadata": {
        "id": "0ZxIR9VUwpFX"
      }
    },
    {
      "cell_type": "markdown",
      "source": [
        "Para iniciar a solução, instalaremos o Ngrok no notebook"
      ],
      "metadata": {
        "id": "oAz5dPBuc7Cj"
      }
    },
    {
      "cell_type": "code",
      "source": [
        "!pip install flask pyngrok"
      ],
      "metadata": {
        "colab": {
          "base_uri": "https://localhost:8080/"
        },
        "collapsed": true,
        "id": "PznZ7O2uc7YF",
        "outputId": "3320524f-fb89-422a-a765-a90e2ec37887"
      },
      "execution_count": null,
      "outputs": [
        {
          "output_type": "stream",
          "name": "stdout",
          "text": [
            "Requirement already satisfied: flask in /usr/local/lib/python3.11/dist-packages (3.1.0)\n",
            "Collecting pyngrok\n",
            "  Downloading pyngrok-7.2.3-py3-none-any.whl.metadata (8.7 kB)\n",
            "Requirement already satisfied: Werkzeug>=3.1 in /usr/local/lib/python3.11/dist-packages (from flask) (3.1.3)\n",
            "Requirement already satisfied: Jinja2>=3.1.2 in /usr/local/lib/python3.11/dist-packages (from flask) (3.1.5)\n",
            "Requirement already satisfied: itsdangerous>=2.2 in /usr/local/lib/python3.11/dist-packages (from flask) (2.2.0)\n",
            "Requirement already satisfied: click>=8.1.3 in /usr/local/lib/python3.11/dist-packages (from flask) (8.1.8)\n",
            "Requirement already satisfied: blinker>=1.9 in /usr/local/lib/python3.11/dist-packages (from flask) (1.9.0)\n",
            "Requirement already satisfied: PyYAML>=5.1 in /usr/local/lib/python3.11/dist-packages (from pyngrok) (6.0.2)\n",
            "Requirement already satisfied: MarkupSafe>=2.0 in /usr/local/lib/python3.11/dist-packages (from Jinja2>=3.1.2->flask) (3.0.2)\n",
            "Downloading pyngrok-7.2.3-py3-none-any.whl (23 kB)\n",
            "Installing collected packages: pyngrok\n",
            "Successfully installed pyngrok-7.2.3\n"
          ]
        }
      ]
    },
    {
      "cell_type": "markdown",
      "source": [
        "O primeira vulnerabilidade que é possível ser notada é a de que o aplicativo não faz uso de chaves, mas escreve a lógica como hard code. Isso é muito mal visto da perspectiva de código seguro. As alterações seguem na snippet do código principal"
      ],
      "metadata": {
        "id": "0gPeqKFSeZYf"
      }
    },
    {
      "cell_type": "code",
      "source": [
        "#importa as bibliotecas\n",
        "from pyngrok import ngrok, conf\n",
        "from google.colab import userdata\n",
        "from werkzeug.security import generate_password_hash, check_password_hash #encripta a senha\n",
        "\n",
        "#aumenta o tempo de timeout\n",
        "conf.get_default().request_timeout = 150\n",
        "\n",
        "#registra a chave de acesso do Ngrok\n",
        "auth_token = userdata.get('auth_token') #usa a sessão de dados sensíveis da google (secrets)\n",
        "ngrok.set_auth_token(auth_token)\n"
      ],
      "metadata": {
        "id": "csEYh50oeVpO"
      },
      "execution_count": null,
      "outputs": []
    },
    {
      "cell_type": "markdown",
      "source": [
        "O aplicativo Flask se encontra abaixo. Para evitar maiores quebras de runtime do código, seguirei explicando as alterações via comentários."
      ],
      "metadata": {
        "id": "UsdMrsjVe22U"
      }
    },
    {
      "cell_type": "code",
      "source": [
        "from flask import Flask, request, jsonify\n",
        "import time\n",
        "!fuser -k 5000/tcp #matar qualquer processo ouvindo na porta 5000\n",
        "\n",
        "#cria um dicionario para simular uma base de dados com login\n",
        "usuarios = {\n",
        "    \"admin\": generate_password_hash(userdata.get('password'))  #cria um hash para a senha\n",
        "}\n",
        "\n",
        "#inicia o app\n",
        "app = Flask(__name__)\n",
        "\n",
        "#tunelamento para evitar brechas de segurança envolvendo tunelamentos clandestinos\n",
        "ngrok_tunnel = ngrok.connect(5000)\n",
        "print(\"* aplicativo funcionando em: *\", ngrok_tunnel)\n",
        "\n",
        "@app.route(\"/\")\n",
        "def home():\n",
        "  #introducao\n",
        "   return \"<h1>Olá! </h1>\"\n",
        "\n",
        "\n",
        "#autenticação do login do cliente da plataforma\n",
        "@app.route(\"/login\", methods=['POST'])\n",
        "def login():\n",
        "\n",
        "  #obtém os valores necessários, presente de forma diferente no código original (é  encriptado)\n",
        "  usuario  = request.form.get('user')\n",
        "  senha  = request.form.get('password')\n",
        "\n",
        "  #checa a existência do login e se está correta a senha (hash está condizente com o valor passado). Se correto, conceda o login.\n",
        "  if usuario in usuarios and check_password_hash(usuarios[usuario], senha):\n",
        "   return jsonify({\"RESULTADO\": \"Acesso concedido\"}), 200\n",
        "  else:\n",
        "    return jsonify({\"RESULTADO\": \"Acesso negado\"}), 401\n",
        "\n",
        "#tempo como garantia para inicializar o app\n",
        "time.sleep(2)\n",
        "app.run(port=5000,threaded = True, debug=False) #debug fica como falso para não expor nenhuma thread insegura\n"
      ],
      "metadata": {
        "colab": {
          "base_uri": "https://localhost:8080/"
        },
        "id": "EwKWRH7AhbMh",
        "outputId": "290c0934-5140-4061-9399-dd467be9076d",
        "collapsed": true
      },
      "execution_count": null,
      "outputs": [
        {
          "output_type": "stream",
          "name": "stdout",
          "text": [
            "* aplicativo funcionando em: * NgrokTunnel: \"https://e2e6-34-86-186-209.ngrok-free.app\" -> \"http://localhost:5000\"\n",
            " * Serving Flask app '__main__'\n",
            " * Debug mode: off\n"
          ]
        },
        {
          "output_type": "stream",
          "name": "stderr",
          "text": [
            "INFO:werkzeug:\u001b[31m\u001b[1mWARNING: This is a development server. Do not use it in a production deployment. Use a production WSGI server instead.\u001b[0m\n",
            " * Running on http://127.0.0.1:5000\n",
            "INFO:werkzeug:\u001b[33mPress CTRL+C to quit\u001b[0m\n",
            "INFO:werkzeug:127.0.0.1 - - [16/Feb/2025 19:02:57] \"GET / HTTP/1.1\" 200 -\n",
            "INFO:werkzeug:127.0.0.1 - - [16/Feb/2025 19:02:57] \"\u001b[33mGET /favicon.ico HTTP/1.1\u001b[0m\" 404 -\n",
            "INFO:werkzeug:127.0.0.1 - - [16/Feb/2025 19:03:04] \"\u001b[31m\u001b[1mPOST /login HTTP/1.1\u001b[0m\" 401 -\n",
            "INFO:werkzeug:127.0.0.1 - - [16/Feb/2025 19:03:21] \"\u001b[31m\u001b[1mPOST /login HTTP/1.1\u001b[0m\" 401 -\n",
            "INFO:werkzeug:127.0.0.1 - - [16/Feb/2025 19:03:28] \"\u001b[31m\u001b[1mPOST /login HTTP/1.1\u001b[0m\" 401 -\n",
            "INFO:werkzeug:127.0.0.1 - - [16/Feb/2025 19:03:41] \"\u001b[31m\u001b[1mPOST /login HTTP/1.1\u001b[0m\" 401 -\n",
            "INFO:werkzeug:127.0.0.1 - - [16/Feb/2025 19:03:51] \"POST /login HTTP/1.1\" 200 -\n"
          ]
        }
      ]
    }
  ]
}