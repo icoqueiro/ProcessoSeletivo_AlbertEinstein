{
  "nbformat": 4,
  "nbformat_minor": 0,
  "metadata": {
    "colab": {
      "provenance": [],
      "authorship_tag": "ABX9TyNVoVv0welWjiDq2f+KOotQ",
      "include_colab_link": true
    },
    "kernelspec": {
      "name": "python3",
      "display_name": "Python 3"
    },
    "language_info": {
      "name": "python"
    }
  },
  "cells": [
    {
      "cell_type": "markdown",
      "metadata": {
        "id": "view-in-github",
        "colab_type": "text"
      },
      "source": [
        "<a href=\"https://colab.research.google.com/github/icoqueiro/ProcessoSeletivo_AlbertEinstein/blob/main/Q3_TesteVagaDev_AE_IvanCoqueiro_ipynb.ipynb\" target=\"_parent\"><img src=\"https://colab.research.google.com/assets/colab-badge.svg\" alt=\"Open In Colab\"/></a>"
      ]
    },
    {
      "cell_type": "markdown",
      "source": [
        "##Questão 3. Web Frameworks (10 pontos)"
      ],
      "metadata": {
        "id": "UCkoeWs6waBw"
      }
    },
    {
      "cell_type": "markdown",
      "source": [
        " Usando Flask, crie uma API simples com dois endpoints:\n",
        "* GET /saudacao?nome=SeuNome que retorna uma mensagem de saudação personalizada.\n",
        "* POST /soma que recebe um JSON com dois números e retorna a soma.\n"
      ],
      "metadata": {
        "id": "pU6qJ9hawQRi"
      }
    },
    {
      "cell_type": "markdown",
      "source": [
        "##Solução"
      ],
      "metadata": {
        "id": "0ZxIR9VUwpFX"
      }
    },
    {
      "cell_type": "markdown",
      "source": [
        "Para iniciar a solução, instalaremos o Ngrok no notebook"
      ],
      "metadata": {
        "id": "oAz5dPBuc7Cj"
      }
    },
    {
      "cell_type": "code",
      "source": [
        "!pip install flask pyngrok"
      ],
      "metadata": {
        "colab": {
          "base_uri": "https://localhost:8080/"
        },
        "collapsed": true,
        "id": "PznZ7O2uc7YF",
        "outputId": "e5998cae-7370-4402-9093-5dd4e28d9b0e"
      },
      "execution_count": 1,
      "outputs": [
        {
          "output_type": "stream",
          "name": "stdout",
          "text": [
            "Requirement already satisfied: flask in /usr/local/lib/python3.11/dist-packages (3.1.0)\n",
            "Requirement already satisfied: pyngrok in /usr/local/lib/python3.11/dist-packages (7.2.3)\n",
            "Requirement already satisfied: Werkzeug>=3.1 in /usr/local/lib/python3.11/dist-packages (from flask) (3.1.3)\n",
            "Requirement already satisfied: Jinja2>=3.1.2 in /usr/local/lib/python3.11/dist-packages (from flask) (3.1.5)\n",
            "Requirement already satisfied: itsdangerous>=2.2 in /usr/local/lib/python3.11/dist-packages (from flask) (2.2.0)\n",
            "Requirement already satisfied: click>=8.1.3 in /usr/local/lib/python3.11/dist-packages (from flask) (8.1.8)\n",
            "Requirement already satisfied: blinker>=1.9 in /usr/local/lib/python3.11/dist-packages (from flask) (1.9.0)\n",
            "Requirement already satisfied: PyYAML>=5.1 in /usr/local/lib/python3.11/dist-packages (from pyngrok) (6.0.2)\n",
            "Requirement already satisfied: MarkupSafe>=2.0 in /usr/local/lib/python3.11/dist-packages (from Jinja2>=3.1.2->flask) (3.0.2)\n"
          ]
        }
      ]
    },
    {
      "cell_type": "markdown",
      "source": [
        "Agora recuperaremos o token salvo na página secrets da google colab"
      ],
      "metadata": {
        "id": "0gPeqKFSeZYf"
      }
    },
    {
      "cell_type": "code",
      "source": [
        "#importa as bibliotecas\n",
        "from pyngrok import ngrok, conf\n",
        "from google.colab import userdata\n",
        "\n",
        "#aumenta o tempo de timeout\n",
        "conf.get_default().request_timeout = 150\n",
        "\n",
        "#registra a chave de acesso do Ngrok\n",
        "auth_token = userdata.get('auth_token')\n",
        "ngrok.set_auth_token(auth_token)\n"
      ],
      "metadata": {
        "id": "csEYh50oeVpO"
      },
      "execution_count": 2,
      "outputs": []
    },
    {
      "cell_type": "markdown",
      "source": [
        "Finalmente, é possível desenvolver nosso aplicativo Flask"
      ],
      "metadata": {
        "id": "UsdMrsjVe22U"
      }
    },
    {
      "cell_type": "code",
      "source": [
        "from flask import Flask, request, jsonify\n",
        "import time\n",
        "!fuser -k 5000/tcp #matar qualquer processo ouvindo na porta 5000\n",
        "\n",
        "\n",
        "app = Flask(__name__)\n",
        "\n",
        "ngrok_tunnel = ngrok.connect(5000)\n",
        "print(\"* aplicativo funcionando em: *\", ngrok_tunnel)\n",
        "\n",
        "@app.route(\"/\")\n",
        "def home():\n",
        "  #introducao\n",
        "   return \"<h1>Olá! Para escolher uma das opções:</h1> <p> digite /saudacao?seuNome=(seuNome) para sabermos como te chamar ou /soma como POST com dois números A e B, para retornarmos a soma deles </p>\"\n",
        "\n",
        "@app.route(\"/saudacao\")\n",
        "def saudacao():\n",
        "  #verifica se existe alguma variável passando o valor nome, senão, pede para tentar novamente\n",
        "   nomeFlask = request.args.get('seuNome')\n",
        "\n",
        "   if nomeFlask:\n",
        "    return f\"<h1>Saudações, {nomeFlask}! </h1>\"\n",
        "   else:\n",
        "    return \"<h1> Não escreveu o nome? Tente novamente </h1>\"\n",
        "\n",
        "\n",
        "#faz a soma de dois números A e B dados.\n",
        "@app.route(\"/soma\", methods=['POST'])\n",
        "def soma():\n",
        "\n",
        "  if not request.is_json:\n",
        "    return jsonify({\"o formato do arquivo precisa ser em Json\"}),600\n",
        "\n",
        "  #decide quantos numeros são\n",
        "  valores = request.get_json()\n",
        "  num_1  = valores.get('num_1')\n",
        "  num_2  = valores.get('num_2')\n",
        "\n",
        "\n",
        "  if num_1 and num_2:\n",
        "    #faz a soma quando os parâmetros já estão disponíveis e mostra na tela. Caso contrário, não mostra.\n",
        "   try:\n",
        "     resultado = float(num_1) + float(num_2)\n",
        "     return jsonify({\"RESULTADO\": resultado})\n",
        "   except ValueError:\n",
        "     return jsonify({\"ERRO\": \" ou 'a' ou 'b' não são números. Por gentileza, consertar.\"}), 600\n",
        "  else:\n",
        "    return jsonify({\"CUIDADO\": \"Os valores de 'a' e de 'b' são obrigatórios.\"}), 600\n",
        "\n",
        "\n",
        "#tempo como garantia para inicializar o app\n",
        "time.sleep(2)\n",
        "app.run(port=5000,threaded = True)\n"
      ],
      "metadata": {
        "id": "EwKWRH7AhbMh"
      },
      "execution_count": null,
      "outputs": []
    }
  ]
}